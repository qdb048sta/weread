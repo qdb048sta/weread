{
 "cells": [
  {
   "cell_type": "code",
   "execution_count": null,
   "id": "13e27f3a",
   "metadata": {},
   "outputs": [],
   "source": []
  },
  {
   "cell_type": "code",
   "execution_count": null,
   "id": "2e80092c",
   "metadata": {},
   "outputs": [],
   "source": []
  },
  {
   "cell_type": "code",
   "execution_count": null,
   "id": "17ba9f48",
   "metadata": {},
   "outputs": [],
   "source": []
  },
  {
   "cell_type": "code",
   "execution_count": null,
   "id": "3f9bda2c",
   "metadata": {},
   "outputs": [],
   "source": []
  },
  {
   "cell_type": "code",
   "execution_count": null,
   "id": "2ad03e93",
   "metadata": {},
   "outputs": [],
   "source": []
  },
  {
   "cell_type": "code",
   "execution_count": null,
   "id": "50ff86c8",
   "metadata": {},
   "outputs": [],
   "source": []
  },
  {
   "cell_type": "code",
   "execution_count": null,
   "id": "ca217732",
   "metadata": {},
   "outputs": [
    {
     "name": "stderr",
     "output_type": "stream",
     "text": [
      "C:\\Users\\starg\\AppData\\Local\\Temp/ipykernel_8064/425421533.py:12: DeprecationWarning: use options instead of chrome_options\n",
      "  driver = webdriver.Chrome(chrome_options=chrome_options)\n"
     ]
    },
    {
     "name": "stdout",
     "output_type": "stream",
     "text": [
      "nowy\n"
     ]
    },
    {
     "name": "stderr",
     "output_type": "stream",
     "text": [
      "C:\\Users\\starg\\AppData\\Local\\Temp/ipykernel_8064/425421533.py:51: DeprecationWarning: find_element_by_tag_name is deprecated. Please use find_element(by=By.TAG_NAME, value=name) instead\n",
      "  html = driver.find_element_by_tag_name('html')\n",
      "C:\\Users\\starg\\AppData\\Local\\Temp/ipykernel_8064/425421533.py:56: DeprecationWarning: find_element_by_xpath is deprecated. Please use find_element(by=By.XPATH, value=xpath) instead\n",
      "  next_button=driver.find_element_by_xpath('/html/body/div[1]/div/div[1]/div[5]/div/button')\n",
      "C:\\Users\\starg\\AppData\\Local\\Temp/ipykernel_8064/425421533.py:57: DeprecationWarning: find_element_by_tag_name is deprecated. Please use find_element(by=By.TAG_NAME, value=name) instead\n",
      "  el = driver.find_element_by_tag_name('html')\n"
     ]
    },
    {
     "name": "stdout",
     "output_type": "stream",
     "text": [
      "finish1\n",
      "finish2\n",
      "finish3\n",
      "finish4\n",
      "finish5\n",
      "finish6\n",
      "finish7\n",
      "finish8\n",
      "finish9\n",
      "finish10\n",
      "finish11\n",
      "finish12\n",
      "finish13\n"
     ]
    },
    {
     "name": "stderr",
     "output_type": "stream",
     "text": [
      "C:\\Users\\starg\\AppData\\Local\\Temp/ipykernel_8064/425421533.py:67: DeprecationWarning: find_element_by_xpath is deprecated. Please use find_element(by=By.XPATH, value=xpath) instead\n",
      "  driver.find_element_by_xpath('/html/body/div[1]/div/div[1]/div[4]')\n"
     ]
    },
    {
     "name": "stdout",
     "output_type": "stream",
     "text": [
      "finish14\n",
      "finish15\n",
      "finish16\n"
     ]
    }
   ],
   "source": [
    "from selenium import webdriver\n",
    "from selenium.webdriver.common.keys import Keys\n",
    "from selenium.webdriver.common.by import By\n",
    "from selenium.webdriver.chrome.options import Options\n",
    "import time\n",
    "from PIL import Image\n",
    "from Screenshot import Screenshot_Clipping\n",
    "chrome_options = Options() \n",
    "#chrome_options.add_argument('--headless')  # 啟動Headless 無頭\n",
    "#chrome_options.headless=True\n",
    "chrome_options.add_argument('--disable-gpu') #關閉GPU 避免某些系統或是網頁出錯\n",
    "driver = webdriver.Chrome(chrome_options=chrome_options)\n",
    "\n",
    "driver.get(\"https://weread.qq.com/web/reader/f4732e60717ded97f473edbkc81322c012c81e728d9d180\")\n",
    "time.sleep(3)\n",
    "'''\n",
    "login=driver.find_element_by_xpath(\"/html/body/div[1]/div/div[1]/div[5]/div/button[1]\")\n",
    "login.click()\n",
    "time.sleep(10)\n",
    "driver.get_screenshot_as_file(\"login.png\")\n",
    "# creating a object\n",
    "im = Image.open('login.png')\n",
    "\n",
    "im.show()\n",
    "#make sure login\n",
    "status=False\n",
    "while status==False:\n",
    "    try:\n",
    "        book_shelf=driver.find_element_by_xpath(\"/html/body/div[1]/div/div[1]/div[2]/div[1]/a\").text\n",
    "        if book_shelf=='去书架查看':\n",
    "            status=True\n",
    "    except:\n",
    "        time.sleep(5)\n",
    "        login=driver.find_element_by_xpath(\"/html/body/div[1]/div/div[1]/div[5]/div/button[1]\")\n",
    "        login.click()'''\n",
    "wait=True\n",
    "while wait==True:\n",
    "    x=input(\"now\")\n",
    "    if x==\"y\":\n",
    "        wait=False\n",
    "    time.sleep(10)\n",
    "#start making screenshot        \n",
    "counter=0\n",
    "cont_not_found=0\n",
    "time.sleep(10)\n",
    "status=True\n",
    "while status==True:\n",
    "    S = lambda X: driver.execute_script('return document.body.parentNode.scroll'+X)\n",
    "    driver.set_window_size(S('Width'),S('Height')) # May need manual adjustment\n",
    "    try:\n",
    "        html = driver.find_element_by_tag_name('html')\n",
    "        html.send_keys(Keys.PAGE_DOWN)\n",
    "        driver.get_screenshot_as_file(\"page\"+str(counter)+'.png')\n",
    "        ob=Screenshot_Clipping.Screenshot()\n",
    "        ob.full_Screenshot(driver, save_path=r'.', image_name=\"page\"+str(counter)+\"_package\"+'.png')\n",
    "        next_button=driver.find_element_by_xpath('/html/body/div[1]/div/div[1]/div[5]/div/button')\n",
    "        el = driver.find_element_by_tag_name('html')\n",
    "        el.screenshot(\"page\"+str(counter)+\"_full\"+'.png')\n",
    "        next_button.click()\n",
    "        found=True\n",
    "        cont_not_found=0\n",
    "    except:\n",
    "        #driver.find_element_by_tag_name('body').screenshot(\"page\"+str(counter)+'.png')\n",
    "        not_display=False\n",
    "        while not_display==False:\n",
    "            try:\n",
    "                driver.find_element_by_xpath('/html/body/div[1]/div/div[1]/div[4]')\n",
    "                not_display=True\n",
    "            except:\n",
    "                pass\n",
    "        driver.get_screenshot_as_file(\"page\"+str(counter)+'.png')\n",
    "        cont_not_found=cont_not_found+1\n",
    "    if cont_not_found>100:\n",
    "        status=False\n",
    "    counter=counter+1\n",
    "    time.sleep(5)\n",
    "    print(\"finish\"+str(counter))\n"
   ]
  },
  {
   "cell_type": "code",
   "execution_count": null,
   "id": "703c91f5",
   "metadata": {},
   "outputs": [],
   "source": [
    "a = input(\"test\")"
   ]
  },
  {
   "cell_type": "code",
   "execution_count": null,
   "id": "fb28ce9f",
   "metadata": {},
   "outputs": [],
   "source": [
    "from selenium import webdriver\n",
    "from selenium.webdriver.common.keys import Keys\n",
    "from selenium.webdriver.common.by import By\n",
    "from selenium.webdriver.chrome.options import Options\n",
    "import time\n",
    "from PIL import Image\n",
    "driver = webdriver.Chrome()\n",
    "driver.get(\"https://weread.qq.com/web/reader/f4732e60717ded97f473edbkaab325601eaab3238922e53\")\n"
   ]
  },
  {
   "cell_type": "code",
   "execution_count": null,
   "id": "6a409795",
   "metadata": {},
   "outputs": [],
   "source": [
    "S = lambda X: driver.execute_script('return document.body.parentNode.scroll'+X)\n",
    "driver.set_window_size(S('Width'),S('Height')) # May need manual adjustment"
   ]
  },
  {
   "cell_type": "code",
   "execution_count": null,
   "id": "55f875f6",
   "metadata": {},
   "outputs": [],
   "source": [
    "dir(driver)"
   ]
  },
  {
   "cell_type": "code",
   "execution_count": null,
   "id": "635022d6",
   "metadata": {},
   "outputs": [],
   "source": [
    "html = driver.find_element_by_tag_name('html')\n",
    "\n"
   ]
  },
  {
   "cell_type": "code",
   "execution_count": null,
   "id": "8d52a033",
   "metadata": {},
   "outputs": [],
   "source": [
    "next_button=driver.find_element_by_xpath('/html/body/div[1]/div/div[1]/div[5]/div/button')"
   ]
  },
  {
   "cell_type": "code",
   "execution_count": null,
   "id": "9d1a5675",
   "metadata": {},
   "outputs": [],
   "source": [
    "\n",
    "\n"
   ]
  },
  {
   "cell_type": "code",
   "execution_count": null,
   "id": "fdc0aeeb",
   "metadata": {},
   "outputs": [],
   "source": [
    "next_button.click()"
   ]
  },
  {
   "cell_type": "code",
   "execution_count": null,
   "id": "17ba81ce",
   "metadata": {},
   "outputs": [],
   "source": [
    "/html/body/div[1]/div/div[1]/div[4]/div[2]/div[3]/div/div[5]"
   ]
  },
  {
   "cell_type": "code",
   "execution_count": null,
   "id": "dc66d62c",
   "metadata": {},
   "outputs": [],
   "source": []
  },
  {
   "cell_type": "code",
   "execution_count": null,
   "id": "8b605ea7",
   "metadata": {},
   "outputs": [],
   "source": []
  },
  {
   "cell_type": "code",
   "execution_count": null,
   "id": "db31d6c1",
   "metadata": {},
   "outputs": [],
   "source": []
  },
  {
   "cell_type": "code",
   "execution_count": null,
   "id": "cf46cae8",
   "metadata": {},
   "outputs": [],
   "source": []
  },
  {
   "cell_type": "code",
   "execution_count": null,
   "id": "7e0c4895",
   "metadata": {},
   "outputs": [],
   "source": []
  },
  {
   "cell_type": "code",
   "execution_count": null,
   "id": "03896348",
   "metadata": {},
   "outputs": [],
   "source": []
  },
  {
   "cell_type": "code",
   "execution_count": null,
   "id": "e16645e7",
   "metadata": {},
   "outputs": [],
   "source": []
  },
  {
   "cell_type": "code",
   "execution_count": null,
   "id": "f2f1b4f7",
   "metadata": {},
   "outputs": [],
   "source": []
  },
  {
   "cell_type": "code",
   "execution_count": null,
   "id": "717e43f3",
   "metadata": {},
   "outputs": [],
   "source": []
  },
  {
   "cell_type": "code",
   "execution_count": null,
   "id": "a4ef30cb",
   "metadata": {},
   "outputs": [],
   "source": []
  },
  {
   "cell_type": "code",
   "execution_count": null,
   "id": "20c91eb2",
   "metadata": {},
   "outputs": [],
   "source": []
  },
  {
   "cell_type": "code",
   "execution_count": null,
   "id": "a949a6a8",
   "metadata": {},
   "outputs": [],
   "source": []
  }
 ],
 "metadata": {
  "kernelspec": {
   "display_name": "Python 3 (ipykernel)",
   "language": "python",
   "name": "python3"
  },
  "language_info": {
   "codemirror_mode": {
    "name": "ipython",
    "version": 3
   },
   "file_extension": ".py",
   "mimetype": "text/x-python",
   "name": "python",
   "nbconvert_exporter": "python",
   "pygments_lexer": "ipython3",
   "version": "3.9.7"
  }
 },
 "nbformat": 4,
 "nbformat_minor": 5
}
